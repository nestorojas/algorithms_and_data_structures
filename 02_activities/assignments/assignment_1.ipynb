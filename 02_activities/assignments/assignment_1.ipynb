{
 "cells": [
  {
   "cell_type": "markdown",
   "metadata": {},
   "source": [
    "# Coding Problems\n",
    "\n",
    "## Objective\n",
    "\n",
    "This assignment aims to demonstrate how to study a data structures or algorithms question in depth to prepare for an industry coding interview. Leetcode is a popular coding practice site that many use to practice for technical interviews. Like behavioral interviews, it's important to practice and keep your skills sharp.\n",
    "\n",
    "## Group Size\n",
    "\n",
    "Please complete this individually.\n",
    "\n",
    "## Part 1:\n",
    "\n",
    "_*You will be assigned one of three problems based of your first name. Execute the code below, and that will tell you your assigned problem. Include the output as part of your submission (do not clear the output). The problems are based-off problems from Leetcode.*_\n"
   ]
  },
  {
   "cell_type": "code",
   "execution_count": 61,
   "metadata": {},
   "outputs": [
    {
     "name": "stdout",
     "output_type": "stream",
     "text": [
      "1\n"
     ]
    }
   ],
   "source": [
    "print((hash('Nestor') % 3) + 1)"
   ]
  },
  {
   "cell_type": "code",
   "execution_count": 62,
   "metadata": {},
   "outputs": [],
   "source": [
    "from collections import deque\n",
    "from typing import Optional, List"
   ]
  },
  {
   "cell_type": "code",
   "execution_count": 63,
   "metadata": {},
   "outputs": [],
   "source": [
    "# TreeNode definition\n",
    "class TreeNode(object):\n",
    "    def __init__(self, val = 0, left = None, right = None):\n",
    "        self.val = val\n",
    "        self.left = left\n",
    "        self.right = right"
   ]
  },
  {
   "cell_type": "code",
   "execution_count": 64,
   "metadata": {},
   "outputs": [],
   "source": [
    "# Helper function to convert list to binary tree\n",
    "def list_to_binary_tree(items):\n",
    "    if not items or items[0] is None:\n",
    "        return None\n",
    "    \n",
    "    iter_items = iter(items)\n",
    "    root = TreeNode(next(iter_items))\n",
    "    queue = [root]\n",
    "    \n",
    "    for item in iter_items:\n",
    "        node = queue.pop(0)\n",
    "        if item is not None:\n",
    "            node.left = TreeNode(item)\n",
    "            queue.append(node.left)\n",
    "        \n",
    "        try:\n",
    "            item = next(iter_items)\n",
    "        except StopIteration:\n",
    "            break\n",
    "        \n",
    "        if item is not None:\n",
    "            node.right = TreeNode(item)\n",
    "            queue.append(node.right)\n",
    "    \n",
    "    return root"
   ]
  },
  {
   "cell_type": "markdown",
   "metadata": {},
   "source": [
    "<details>\n",
    "  <summary>Question 1</summary>\n",
    "\n",
    "  # Question One: Check Duplicates in Tree\n",
    "\n",
    "  Given the `root` of a binary tree, check whether it is contains a duplicate value. If a duplicate exists, return the duplicate value. If there are multiple duplicates, return the one with the closest distance to the root. If no duplicate exists, return -1.\n",
    "\n",
    "  ## Examples\n",
    "\n",
    "  ### Example 1\n",
    "\n",
    "  ![](./images/q1_ex1.png)\n",
    "\n",
    "  Input: `root = [1, 2, 2, 3, 5, 6, 7]` *What traversal method is this?*\n",
    "\n",
    "  Output: 2\n",
    "\n",
    "  ### Example 2\n",
    "\n",
    "  ![](./images/q1_ex2.png)\n",
    "\n",
    "  Input: `root = [1, 10, 2, 3, 10, 12, 12]`\n",
    "\n",
    "  Output: 10\n",
    "\n",
    "  ### Example 3\n",
    "\n",
    "  ![](./images/q1_ex3.png)\n",
    "\n",
    "  Input: `root = [10, 9, 8, 7]`\n",
    "\n",
    "  Output: -1\n",
    "\n",
    "</details>\n",
    "\n",
    "#### Starter Code for Question 1"
   ]
  },
  {
   "cell_type": "code",
   "execution_count": 65,
   "metadata": {},
   "outputs": [],
   "source": [
    "def is_duplicate(root: TreeNode) -> int:\n",
    "    if not root:\n",
    "        return -1\n",
    "    # set is efficient for adding items (O(1) average time complexity)\n",
    "    seen = set()\n",
    "    # use deque for BFS traversal.\n",
    "    queue = deque([root])\n",
    "    \n",
    "    while queue:\n",
    "        current = queue.popleft()\n",
    "        #check if the current value has been seen before\n",
    "        if current.val in seen:\n",
    "            return current.val\n",
    "        #Add Values to Seen Structures\n",
    "        seen.add(current.val)\n",
    "        # append the left and right children to the queue if they exist\n",
    "        if current.left:\n",
    "            queue.append(current.left)\n",
    "        if current.right:\n",
    "            queue.append(current.right)\n",
    "    \n",
    "    return -1"
   ]
  },
  {
   "cell_type": "code",
   "execution_count": 66,
   "metadata": {},
   "outputs": [],
   "source": [
    "# Comprehensive Solution\n",
    "def process_tree(values: List[Optional[int]]) -> int:\n",
    "    try:\n",
    "        root = list_to_binary_tree(values)\n",
    "        return is_duplicate(root)\n",
    "    except ValueError as e:\n",
    "        return str(e)\n",
    "    except Exception as e:\n",
    "        return \"An error occurred: \" + str(e)\n",
    "\n",
    "# Testing function\n",
    "def run_unit_test(values: List[Optional[int]], expected: int, test_case_num: int):\n",
    "    result = process_tree(values)\n",
    "    output = f\"Test Case {test_case_num}: Input = {values}, Expected Output = {expected}, Your Output = {result}\"\n",
    "    print(output, \"->\", \"Pass\" if result == expected else \"Fail\")"
   ]
  },
  {
   "cell_type": "code",
   "execution_count": 67,
   "metadata": {},
   "outputs": [
    {
     "name": "stdout",
     "output_type": "stream",
     "text": [
      "Test Case 1: Input = [1, 2, 2, 3, 5, 6, 7], Expected Output = 2, Your Output = 2 -> Pass\n",
      "Test Case 2: Input = [1, 10, 2, 3, 10, 12, 12], Expected Output = 10, Your Output = 10 -> Pass\n",
      "Test Case 3: Input = [10, 9, 8, 7], Expected Output = -1, Your Output = -1 -> Pass\n"
     ]
    }
   ],
   "source": [
    "# Unit Testing\n",
    "def test_is_duplicates():\n",
    "    test_cases = [\n",
    "        ([1, 2, 2, 3, 5, 6, 7], 2),\n",
    "        ([1, 10, 2, 3, 10, 12, 12], 10),\n",
    "        ([10, 9, 8, 7], -1)\n",
    "    ]\n",
    "    for i, (values, expected) in enumerate(test_cases):\n",
    "        run_unit_test(values, expected, i + 1)\n",
    "\n",
    "# Run test cases from Assignment\n",
    "test_is_duplicates()\n"
   ]
  },
  {
   "cell_type": "markdown",
   "metadata": {},
   "source": [
    "<details>\n",
    "  <summary>Question 2</summary>\n",
    "\n",
    "  # Question Two: Path to Leaves\n",
    "\n",
    "  Given the `root` of a binary tree, return all root to leaf paths in any order.\n",
    "\n",
    "  ## Examples\n",
    "\n",
    "  ### Example 1\n",
    "\n",
    "  ![](./images/q1_ex1.png)\n",
    "\n",
    "  Input: `root = [1, 2, 2, 3, 5, 6, 7]` *What traversal method is this?*\n",
    "\n",
    "  Output: [[1, 2, 3], [1, 2, 5], [1, 2, 6], [1, 2, 7]]\n",
    "\n",
    "  ### Example 2\n",
    "\n",
    "  ![](./images/q1_ex3.png)\n",
    "\n",
    "  Input: `root = [10, 9, 8, 7]`\n",
    "\n",
    "  Output: [[10, 7], [10, 9, 8]]\n",
    "\n",
    "</details>\n",
    "\n",
    "#### Starter Code for Question 2"
   ]
  },
  {
   "cell_type": "code",
   "execution_count": 68,
   "metadata": {},
   "outputs": [],
   "source": [
    "# Definition for a binary tree node.\n",
    "# class TreeNode(object):\n",
    "#     def __init__(self, val = 0, left = None, right = None):\n",
    "#         self.val = val\n",
    "#         self.left = left\n",
    "#         self.right = right\n",
    "#def bt_path(root: TreeNode) -> List[List[int]]:\n",
    "  # TODO"
   ]
  },
  {
   "cell_type": "markdown",
   "metadata": {},
   "source": [
    "<details>\n",
    "  <summary>Question 3</summary>\n",
    "\n",
    "  # Question Three: Missing Number in Range\n",
    " \n",
    "  You are given a list containing `n` integers in the range `[0, n]`. Return a list of numbers that are missing from the range `[0, n]` of the array. If there is no missing number, return -1. Note, all the integers in the list may not be unique.\n",
    "  \n",
    "  ## Examples\n",
    "\n",
    "  ### Example 1\n",
    "\n",
    "  Input: `lst = [0, 2]`\n",
    "\n",
    "  Output: [1]\n",
    "\n",
    "  ### Example 2\n",
    "\n",
    "  Input: `lst = [5, 0, 1]`\n",
    "\n",
    "  Output: [2, 3, 4]\n",
    "\n",
    "  ### Example 3\n",
    "\n",
    "  Input: `lst = [6, 8, 2, 3, 5, 7, 0, 1, 10]`\n",
    "\n",
    "  Output: [4, 9]\n",
    "\n",
    "</details>\n",
    "\n",
    "#### Starter Code for Question 3\n"
   ]
  },
  {
   "cell_type": "code",
   "execution_count": 69,
   "metadata": {},
   "outputs": [],
   "source": [
    "#def missing_num(nums: List) -> int:\n",
    "  # TODO"
   ]
  },
  {
   "cell_type": "markdown",
   "metadata": {},
   "source": [
    "\n",
    "## Part 2:\n",
    "\n",
    "-   Paraphrase the problem in your own words\n"
   ]
  },
  {
   "cell_type": "markdown",
   "metadata": {},
   "source": [
    "# Your answer here\n",
    "\n",
    "```\n",
    "Having a binary tree, I need to check if there's any value that appears more than once in the tree.  If there is a duplicate, return that value. If there are multiple duplicates, return the one that's closest to the root of the tree. If there are no duplicates, return -1.\n",
    "\n",
    "Assumptions:  \n",
    "Input : List of Integers representing a Binary Tree\n",
    "Output : Integer\n",
    "\n",
    "Preprocess : Convert the input list of int into a binary tree using BFS \n",
    "```"
   ]
  },
  {
   "cell_type": "markdown",
   "metadata": {},
   "source": [
    "\n",
    "-   In the .md file containing your problem, there are examples that illustrate how the code should work. Create 2 new examples that demonstrate you understand the problem.\n"
   ]
  },
  {
   "cell_type": "markdown",
   "metadata": {},
   "source": [
    "#### Example 1\n",
    "* Input: root = [1, 2, 3, 2]\n",
    "* Output: 2\n",
    "\n",
    "#### Example 2\n",
    "* Input: root = [1, -1, -2, -1, -2]\n",
    "* Output: -1"
   ]
  },
  {
   "cell_type": "code",
   "execution_count": 73,
   "metadata": {},
   "outputs": [
    {
     "name": "stdout",
     "output_type": "stream",
     "text": [
      "Test Case 1: Input = [1, 2, 3, 2], Expected Output = 2, Your Output = 2 -> Pass\n",
      "Test Case 2: Input = [1, -1, -2, -1, -2], Expected Output = -1, Your Output = -1 -> Pass\n"
     ]
    }
   ],
   "source": [
    "# Your answer here\n",
    "def test_additional_test_case():\n",
    "    run_unit_test([1, 2, 3, 2], 2, 1)\n",
    "    run_unit_test([1, -1, -2, -1, -2], -1, 2)\n",
    "\n",
    "test_additional_test_case()\n"
   ]
  },
  {
   "cell_type": "markdown",
   "metadata": {},
   "source": [
    "\n",
    "-   Code the solution to your assigned problem in Python (code chunk). Try to find the best time and space complexity solution!\n"
   ]
  },
  {
   "cell_type": "code",
   "execution_count": null,
   "metadata": {},
   "outputs": [],
   "source": [
    "# Your answer here\n",
    "from typing import List, Optional\n",
    "from collections import deque\n",
    "\n",
    "# TreeNode definition\n",
    "class TreeNode(object):\n",
    "    def __init__(self, val = 0, left = None, right = None):\n",
    "        self.val = val\n",
    "        self.left = left\n",
    "        self.right = right\n",
    "\n",
    "# Helper function to convert list to binary tree\n",
    "def list_to_binary_tree(items: List[Optional[int]]) -> Optional[TreeNode]:\n",
    "    if not items or items[0] is None:\n",
    "        return None\n",
    "    \n",
    "    iter_items = iter(items)\n",
    "    root = TreeNode(next(iter_items))\n",
    "    queue = [root]\n",
    "    \n",
    "    for item in iter_items:\n",
    "        node = queue.pop(0)\n",
    "        if item is not None:\n",
    "            node.left = TreeNode(item)\n",
    "            queue.append(node.left)\n",
    "        \n",
    "        try:\n",
    "            item = next(iter_items)\n",
    "        except StopIteration:\n",
    "            break\n",
    "        \n",
    "        if item is not None:\n",
    "            node.right = TreeNode(item)\n",
    "            queue.append(node.right)\n",
    "    \n",
    "    return root\n",
    "\n",
    "# Function to check for duplicates in the binary tree\n",
    "def is_duplicate(root: TreeNode) -> int:\n",
    "    if not root:\n",
    "        return -1\n",
    "    \n",
    "    seen = set()\n",
    "    queue = deque([root])\n",
    "    \n",
    "    while queue:\n",
    "        current = queue.popleft()\n",
    "        if current.val in seen:\n",
    "            return current.val\n",
    "        seen.add(current.val)\n",
    "        if current.left:\n",
    "            queue.append(current.left)\n",
    "        if current.right:\n",
    "            queue.append(current.right)\n",
    "    \n",
    "    return -1\n",
    "\n",
    "# Function to process the list and check for duplicates\n",
    "def process_tree(values: List[Optional[int]]) -> int:\n",
    "    try:\n",
    "        root = list_to_binary_tree(values)\n",
    "        return is_duplicate(root)\n",
    "    except ValueError as e:\n",
    "        return str(e)\n",
    "    except Exception as e:\n",
    "        return \"An error occurred: \" + str(e)\n"
   ]
  },
  {
   "cell_type": "markdown",
   "metadata": {},
   "source": [
    "\n",
    "-   Explain why your solution works\n"
   ]
  },
  {
   "cell_type": "markdown",
   "metadata": {},
   "source": [
    "# Your answer here\n",
    "#### My solution involves two steps: first, converting the list into a binary tree, and second, performing a BFS on the tree to detect duplicates.\n",
    "\n",
    "1. Converting List to Binary Tree: The list_to_binary_tree function iterates over the list items, using a queue to construct the tree level by level. This ensures each node is correctly attached as a child of the current node, maintaining the hierarchical structure required.\n",
    "\n",
    "2. Checking for Duplicates Using BFS: The is_duplicate function employs a BFS approach, using a set to track seen values. As we traverse the tree, we check if a value has already been encountered. If it has, we return it as the first duplicate. This method ensures that the first duplicate is found swiftly and efficiently.\n",
    "The solution handles edge cases like an empty list or a list with no duplicates by returning -1, ensuring robustness.\n",
    "\n",
    "#### Conclusion \n",
    "#### My solution constructs the binary tree accurately and uses an efficient BFS approach to detect duplicates, making it both effective and reliable."
   ]
  },
  {
   "cell_type": "markdown",
   "metadata": {},
   "source": [
    "\n",
    "-   Explain the problem’s and space complexity\n"
   ]
  },
  {
   "cell_type": "markdown",
   "metadata": {},
   "source": [
    "# Your answer here\n",
    "\n",
    "## Time Complexity\n",
    "\n",
    "1. Converting a List to a Binary Tree\n",
    "\n",
    "The list_to_binary_tree function has to iterate through each element in the list exactly once to construct the binary tree.\n",
    "\n",
    "* Iteration through the list: Each element is processed once.\n",
    "* Node creation and queue operations: Each operation like appending to or popping from the queue happens in constant time.\n",
    "#### Time Complexity: O(n), where n is the number of elements in the list.\n",
    "\n",
    "2. Checking for Duplicates Using BFS\n",
    "\n",
    "The is_duplicate function performs a Breadth-First Search (BFS) on the binary tree.\n",
    "\n",
    "* BFS traversal: Each node in the tree is visited once.\n",
    "* Set operations: Checking if a value exists in the set and adding a new value to the set both occur in average constant time O(1).\n",
    "#### Time Complexity: O(m), where m is the number of nodes in the binary tree.\n",
    "\n",
    "Since the binary tree is constructed from the list and each element in the list typically corresponds to a node in the tree, m is usually equal to n (the number of list elements).\n",
    "\n",
    "## Overall Time Complexity: O(n) + O(n) = O(n)\n",
    "\n",
    "## Space Complexity\n",
    "\n",
    "1. Converting a List to a Binary Tree\n",
    "\n",
    "* Tree Nodes: Each element in the list corresponds to a node in the binary tree, so storing the tree requires O(n) space.\n",
    "* Queue for BFS: At most, the queue will hold all the nodes at the current tree level. In a balanced binary tree, the maximum number of nodes at the last level is approximately n/2, so this is O(n) in the worst case.\n",
    "* List Iterator: The iterator is an implicit O(1) space cost.\n",
    "#### Space Complexity: O(n) for storing the tree nodes.\n",
    "\n",
    "2. Checking for Duplicates Using BFS\n",
    "\n",
    "* Set to Track Seen Values: In the worst case, the set will hold n unique values, so it requires O(n) space.\n",
    "* Queue for BFS: Similarly to building the tree, the BFS queue will at most hold O(n) nodes in the worst case.\n",
    "#### Space Complexity: O(n) for the set and O(n) for the BFS queue.\n",
    "\n",
    "## Overall Space Complexity: O(n) + O(n) = O(n)"
   ]
  },
  {
   "cell_type": "markdown",
   "metadata": {},
   "source": [
    "\n",
    "-   Explain the thinking to an alternative solution (no coding required, but a classmate reading this should be able to code it up based off your text)\n"
   ]
  },
  {
   "cell_type": "markdown",
   "metadata": {},
   "source": [
    "# Your answer here\n",
    "\n",
    "1. Converting List to Binary Tree is used\n",
    "\n",
    "2. Check for Duplicates using Depth-First-Search (DFS)\n",
    "\n",
    "```\n",
    "Function to Check for Duplicates Using DFS\n",
    "  a. Define function `check_duplicate_dfs`, initializing an empty set.\n",
    "  b. Define recursive helper function `dfs` taking a node and the set.\n",
    "    i. Base case: if node is `None`, return -1.\n",
    "    ii. If node’s value is in the set, return the value (duplicate found).\n",
    "    iii. Add node’s value to the set.\n",
    "    iv. Recursively call dfs on the left child.\n",
    "    v. If left call finds duplicate, return the duplicate value.\n",
    "    vi. Recursively call dfs on the right child.\n",
    "    vii. Return the result from the right call (it could be -1 if no duplicate).\n",
    "  c. Call the dfs function starting from the root node.\n",
    "  d. Return the result.\n",
    "  ```\n"
   ]
  },
  {
   "cell_type": "markdown",
   "metadata": {},
   "source": [
    "## Evaluation Criteria\n",
    "\n",
    "-   Problem is accurately stated\n",
    "\n",
    "-   Two examples are correct and easily understandable\n",
    "\n",
    "-   Correctness, time, and space complexity of the coding solution\n",
    "\n",
    "-   Clarity in explaining why the solution works, its time and space complexity\n",
    "\n",
    "-   Clarity in the proposal to the alternative solution"
   ]
  },
  {
   "cell_type": "markdown",
   "metadata": {},
   "source": [
    "## Submission Information\n",
    "\n",
    "🚨 **Please review our [Assignment Submission Guide](https://github.com/UofT-DSI/onboarding/blob/main/onboarding_documents/submissions.md)** 🚨 for detailed instructions on how to format, branch, and submit your work. Following these guidelines is crucial for your submissions to be evaluated correctly.\n",
    "\n",
    "### Submission Parameters:\n",
    "* Submission Due Date: `HH:MM AM/PM - DD/MM/YYYY`\n",
    "* The branch name for your repo should be: `assignment-1`\n",
    "* What to submit for this assignment:\n",
    "    * This Jupyter Notebook (assignment_1.ipynb) should be populated and should be the only change in your pull request.\n",
    "* What the pull request link should look like for this assignment: `https://github.com/<your_github_username>/algorithms_and_data_structures/pull/<pr_id>`\n",
    "    * Open a private window in your browser. Copy and paste the link to your pull request into the address bar. Make sure you can see your pull request properly. This helps the technical facilitator and learning support staff review your submission easily.\n",
    "\n",
    "Checklist:\n",
    "- [ ] Create a branch called `assignment-1`.\n",
    "- [ ] Ensure that the repository is public.\n",
    "- [ ] Review [the PR description guidelines](https://github.com/UofT-DSI/onboarding/blob/main/onboarding_documents/submissions.md#guidelines-for-pull-request-descriptions) and adhere to them.\n",
    "- [ ] Verify that the link is accessible in a private browser window.\n",
    "\n",
    "If you encounter any difficulties or have questions, please don't hesitate to reach out to our team via our Slack at `#cohort-3-help`. Our Technical Facilitators and Learning Support staff are here to help you navigate any challenges."
   ]
  }
 ],
 "metadata": {
  "kernelspec": {
   "display_name": "Python 3",
   "language": "python",
   "name": "python3"
  },
  "language_info": {
   "codemirror_mode": {
    "name": "ipython",
    "version": 3
   },
   "file_extension": ".py",
   "mimetype": "text/x-python",
   "name": "python",
   "nbconvert_exporter": "python",
   "pygments_lexer": "ipython3",
   "version": "3.9.19"
  }
 },
 "nbformat": 4,
 "nbformat_minor": 2
}
