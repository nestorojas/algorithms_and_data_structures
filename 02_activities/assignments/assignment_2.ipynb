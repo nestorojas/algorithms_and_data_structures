{
 "cells": [
  {
   "cell_type": "markdown",
   "metadata": {},
   "source": [
    "# Practice Interview\n",
    "\n",
    "## Objective\n",
    "\n",
    "_*The partner assignment aims to provide participants with the opportunity to practice coding in an interview context. You will analyze your partner's Assignment 1. Moreover, code reviews are common practice in a software development team. This assignment should give you a taste of the code review process.*_\n",
    "\n",
    "## Group Size\n",
    "\n",
    "Each group should have 2 people. You will be assigned a partner\n",
    "\n",
    "## Part 1:\n",
    "\n",
    "You and your partner must share each other's Assignment 1 submission."
   ]
  },
  {
   "cell_type": "markdown",
   "metadata": {},
   "source": [
    "### Parter for assignment ```Stuart Macgregor```\n",
    "[Stuart assignment-1]([https://github.com/stumac/algorithms_and_data_structures/pulls)"
   ]
  },
  {
   "cell_type": "markdown",
   "metadata": {},
   "source": [
    "\n",
    "## Part 2:\n",
    "\n",
    "## Create a Jupyter Notebook, create 6 of the following headings, and complete the following for your partner's assignment 1:\n",
    "\n",
    "## -   Paraphrase the problem in your own words.\n"
   ]
  },
  {
   "cell_type": "markdown",
   "metadata": {},
   "source": [
    "#### Question 3: Missing Number in Range\n",
    "\n",
    "<summary> \n",
    "   You have a list of numbers that can include duplicates, and these numbers are supposed to be within the range starting from 0 up to a certain number ( n ). Your job is to find out which numbers are missing from this range. If there are no missing numbers, you should return a list containing -1. If the list is empty, you should also return a list containing -1.\n",
    "\n",
    "Assumptions:\n",
    "\n",
    "* The range always starts from 0.\n",
    "* Ignore any duplicates in the list; only consider unique numbers.\n",
    "* If the input list is empty, return a list containing -1.\n",
    "\n",
    "Test Cases:\n",
    "\n",
    "* If the list is [0, 2], the range is from 0 to 2 ([0, 1, 2]), and the missing number is 1. So, the output is [1].\n",
    "* If the list is [5, 0, 1], the range is from 0 to 5 ([0, 1, 2, 3, 4, 5]), and the missing numbers are 2, 3, and 4. So, the output is [2, 3, 4].\n",
    "* If the list is [6, 8, 2, 3, 5, 7, 0, 1, 10], the range is from 0 to 10, and the missing numbers are 4 and 9. So, the output is [4, 9].\n",
    "\n",
    "Edge Cases:\n",
    "\n",
    "If the input list is empty, return [-1].\n",
    "If all numbers in the range are present, return [-1].\n",
    "\n",
    "</summary>"
   ]
  },
  {
   "cell_type": "markdown",
   "metadata": {},
   "source": [
    "\n",
    "## -   Create 1 new example that demonstrates you understand the problem. Trace/walkthrough 1 example that your partner made and explain it.\n"
   ]
  },
  {
   "cell_type": "markdown",
   "metadata": {},
   "source": [
    "```\n",
    "* If the list is [9, 8, 7, 7, 6, 6, 2, 1, 0], the range is from 0 to 9, and the missing numbers are 3, 4 and 5. So, the output is [3, 4, 5].\n",
    "```"
   ]
  },
  {
   "cell_type": "markdown",
   "metadata": {},
   "source": [
    "\n",
    "## -   Copy the solution your partner wrote. \n"
   ]
  },
  {
   "cell_type": "code",
   "execution_count": null,
   "metadata": {},
   "outputs": [],
   "source": [
    "\n",
    "def missing_num(nums):\n",
    "    # early guard. an empty list is a list with no missing values.\n",
    "    if len(nums) == 0:\n",
    "        return -1\n",
    "    \n",
    "    # given that we need to return multiple values, we effectively need to iterate\n",
    "    # through every item in the list. So this algo is going to be O(n)ish\n",
    "\n",
    "    # 1. Get the largest number, put all of them into a dictionary. dicts are o(1) lookup,\n",
    "    #    so I'll take that over a set.\n",
    "    num_dict = dict()\n",
    "    largest_num = 0\n",
    "    for x in nums:\n",
    "        num_dict[x] = True\n",
    "        if x > largest_num:\n",
    "            largest_num = x\n",
    "\n",
    "    # 2 range over it, checking if the value is in dict. If not, send it into \n",
    "    # the return list\n",
    "    ret_arr = []\n",
    "    for n in range(largest_num):\n",
    "        if num_dict.get(n) == None:\n",
    "            ret_arr.append(n)\n",
    "    \n",
    "    # 3. Return -1 if the return list is empty.\n",
    "    if len(ret_arr) == 0:\n",
    "        return -1\n",
    "    \n",
    "    return ret_arr"
   ]
  },
  {
   "cell_type": "markdown",
   "metadata": {},
   "source": [
    "\n",
    "### -   Explain why their solution works in your own words.\n"
   ]
  },
  {
   "cell_type": "markdown",
   "metadata": {},
   "source": [
    "```\n",
    "1. Using a dictionary for quick lookups ensures efficiency.\n",
    "2. The range is determined based on the largest number in the input.\n",
    "3. Every number in the expected range is checked to see if it's missing.\n",
    "4. Edge cases like an empty list or no missing numbers are correctly handled.\n",
    "5, The algorithm runs in linear time, making it suitable for large inputs.\n",
    "```"
   ]
  },
  {
   "cell_type": "markdown",
   "metadata": {},
   "source": [
    "\n",
    "### -   Explain the problem’s time and space complexity in your own words.\n"
   ]
  },
  {
   "cell_type": "markdown",
   "metadata": {},
   "source": [
    "#### Time Complexity:\n",
    "\n",
    "* Initial Check (O(1)):\n",
    "* The check to see if the list is empty and return -1 is a constant time operation (O(1)).\n",
    "* Building the Dictionary and Finding the Largest Number (O(n)):\n",
    "* The for-loop that iterates through the list of numbers to build the dictionary (num_dict[x] = True) and find the largest number takes linear time, O(n), where n is the length of the input list nums.\n",
    "* Checking for Missing Numbers (O(m)):\n",
    "* The second for-loop that iterates through the range from 0 to largest_num - 1 also takes time proportional to the range m, which can be up to O(n) in the worst case (if the largest number is n and all numbers are unique and within the range).\n",
    "\n",
    "* Final Check (O(1)):\n",
    "The check to return -1 if the return list (ret_arr) is empty is again a constant time operation, O(1).\n",
    "Combining all these operations, the overall time complexity is O(n) in the average and worst case, because the largest of the O(n) operations dominates the overall complexity.\n",
    "\n",
    "```\n",
    "Summary of Time Complexity:\n",
    "Overall: O(n)\n",
    "```\n",
    "\n",
    "#### Space Complexity:\n",
    "\n",
    "* Dictionary (O(n)):\n",
    "The dictionary num_dict stores each number from the input list as a key. In the worst case, if all numbers are unique, the dictionary will store n key-value pairs, resulting in O(n) space complexity.\n",
    "\n",
    "* Return List (O(m)):\n",
    "The return list (ret_arr) will store the missing numbers. In the worst case, this could be O(n), but typically it depends on the number of missing numbers, which is at most n.\n",
    "Few Extra Variables (O(1)):\n",
    "Variables like largest_num and loop variables take constant space, O(1).\n",
    "Combining these, the space complexity is mainly determined by the space needed for the dictionary and the return list.\n",
    "\n",
    "```\n",
    "Summary of Space Complexity:\n",
    "Overall: O(n)\n",
    "```"
   ]
  },
  {
   "cell_type": "markdown",
   "metadata": {},
   "source": [
    "\n",
    "### -   Critique your partner's solution, including explanation, and if there is anything that should be adjusted.\n"
   ]
  },
  {
   "cell_type": "markdown",
   "metadata": {},
   "source": [
    "#### What Works Well:\n",
    "\n",
    "```Efficiency:```\n",
    "The use of a dictionary for lookups ensures that the solution runs efficiently with an average time complexity of O(n).\n",
    "The approach of dynamically determining the range based on the largest number in the list is smart and adaptive.\n",
    "\n",
    "```Handling Edge Cases:```\n",
    "The solution correctly handles edge cases, such as returning -1 for an empty list or when there are no missing numbers.\n",
    "\n",
    "```Simplicity:```\n",
    "The logic is straightforward and easy to follow, making the code maintainable and understandable.\n",
    "\n",
    "#### Potential Improvements and Adjustments:\n",
    "\n",
    "```Range Calculation:```\n",
    "The current range calculation stops at largest_num, but it should ideally stop at n as described in the initial problem statement (0 to n). This can be adjusted as:\n",
    "for n in range(largest_num + 1):\n",
    "\n",
    "```Output Consistency:```\n",
    "According to the problem statement, the function should always return a list. Therefore, instead of returning -1, it should return [-1] when there are no missing numbers or the input list is empty.\n",
    "\n",
    "```Comments and Documentation:```\n",
    "While the provided comments are good, they can be made more consistent and aligned with Python documentation standards for clarity. For example, inline comments might be placed immediately after or above the code they describe.\n",
    "\n",
    "```Default Edge Case Handling:```\n",
    "The solution currently does not handle cases where the largest number in the list is less than the length of the list. Adjustments should be done to ensure the range calculation includes all numbers up to n."
   ]
  },
  {
   "cell_type": "markdown",
   "metadata": {},
   "source": [
    "\n",
    "## Part 3:\n",
    "\n",
    "Please write a 200 word reflection documenting your process from assignment 1, and your presentation and review experience with your partner at the bottom of the Jupyter Notebook under a new heading \"Reflection.\" Again, export this Notebook as pdf.\n"
   ]
  },
  {
   "cell_type": "markdown",
   "metadata": {},
   "source": [
    "### Reflection"
   ]
  },
  {
   "cell_type": "markdown",
   "metadata": {},
   "source": [
    "This exercise served as a robust simulation for coding interviews, comprising two key parts: solving a coding problem and conducting a code review.\n",
    "\n",
    "In the Assignment 1, I tackled the problem of detecting duplicates in a binary tree using Breadth-First Search (BFS). Focusing on the structural definition of a binary tree, I utilized the TreeNode class, representing nodes with value and child references. Leveraging BFS for level-order traversal, I initialized a queue with the root node and used a set for tracking seen values, ensuring O(1) average complexity for lookups and insertions. The while loop managed node traversal, dequeuing nodes, checking for duplicates, and enqueuing children. This approach maintained O(n) time and space complexity, where n is the number of nodes.\n",
    "\n",
    "In the Assignment 2, I critically analyzed a code solution aimed at identifying missing numbers in a sequence. Through detailed examination, I highlighted areas for improvement such as refining range calculations, ensuring consistent output, and enhancing comments for better clarity. This peer-review practice honed my ability to evaluate code efficiency, manage edge cases, and leverage best practices—skills essential for technical interviews.\n",
    "\n",
    "Combined, these tasks underscored the importance of selecting appropriate algorithms and the collaborative nature of software development. Both exercises reinforced vital skills in problem-solving, algorithmic thinking, and effective communication, crucial for excelling in coding interviews and professional environments."
   ]
  },
  {
   "cell_type": "markdown",
   "metadata": {},
   "source": [
    "\n",
    "## Evaluation Criteria\n",
    "\n",
    "We are looking for the similar points as Assignment 1\n",
    "\n",
    "-   Problem is accurately stated\n",
    "\n",
    "-   New example is correct and easily understandable\n",
    "\n",
    "-   Correctness, time, and space complexity of the coding solution\n",
    "\n",
    "-   Clarity in explaining why the solution works, its time and space complexity\n",
    "\n",
    "-   Quality of critique of your partner's assignment, if necessary\n"
   ]
  },
  {
   "cell_type": "markdown",
   "metadata": {},
   "source": [
    "## Submission Information\n",
    "\n",
    "🚨 **Please review our [Assignment Submission Guide](https://github.com/UofT-DSI/onboarding/blob/main/onboarding_documents/submissions.md)** 🚨 for detailed instructions on how to format, branch, and submit your work. Following these guidelines is crucial for your submissions to be evaluated correctly.\n",
    "\n",
    "### Submission Parameters:\n",
    "* Submission Due Date: `HH:MM AM/PM - DD/MM/YYYY`\n",
    "* The branch name for your repo should be: `assignment-2`\n",
    "* What to submit for this assignment:\n",
    "    * This Jupyter Notebook (assignment_2.ipynb) should be populated and should be the only change in your pull request.\n",
    "* What the pull request link should look like for this assignment: `https://github.com/<your_github_username>/algorithms_and_data_structures/pull/<pr_id>`\n",
    "    * Open a private window in your browser. Copy and paste the link to your pull request into the address bar. Make sure you can see your pull request properly. This helps the technical facilitator and learning support staff review your submission easily.\n",
    "\n",
    "Checklist:\n",
    "- [ ] Created a branch with the correct naming convention.\n",
    "- [ ] Ensured that the repository is public.\n",
    "- [ ] Reviewed the PR description guidelines and adhered to them.\n",
    "- [ ] Verify that the link is accessible in a private browser window.\n",
    "\n",
    "If you encounter any difficulties or have questions, please don't hesitate to reach out to our team via our Slack at `#cohort-3-help`. Our Technical Facilitators and Learning Support staff are here to help you navigate any challenges.\n"
   ]
  }
 ],
 "metadata": {
  "language_info": {
   "name": "python"
  }
 },
 "nbformat": 4,
 "nbformat_minor": 2
}
